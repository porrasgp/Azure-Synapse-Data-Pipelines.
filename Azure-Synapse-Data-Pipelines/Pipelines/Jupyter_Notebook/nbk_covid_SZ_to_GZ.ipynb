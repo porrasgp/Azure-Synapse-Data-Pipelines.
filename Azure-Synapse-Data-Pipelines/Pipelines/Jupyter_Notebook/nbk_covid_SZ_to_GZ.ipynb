{
  "nbformat": 4,
  "nbformat_minor": 2,
  "cells": [
    {
      "cell_type": "code",
      "execution_count": null,
      "outputs": [],
      "metadata": {},
      "source": [
        "import numpy as np\n",
        "import pandas as pd\n",
        "import matplotlib.pyplot as plt\n",
        "import plotly.express as px\n",
        "import seaborn as sns "
      ]
    },
    {
      "cell_type": "code",
      "execution_count": null,
      "outputs": [],
      "metadata": {},
      "source": [
        "covid_proc = pd.read_csv('abfss://datatokioolympicsgps@tokioolympicsgps.dfs.core.windows.net/Silver/covid_worldwide_SZ.csv', index_col=False) \n",
        "covid_proc.head()"
      ]
    },
    {
      "cell_type": "code",
      "execution_count": null,
      "outputs": [],
      "metadata": {},
      "source": [
        "covid_proc.info()"
      ]
    },
    {
      "cell_type": "code",
      "execution_count": null,
      "outputs": [],
      "metadata": {},
      "source": [
        "covid_proc['percentage of patients death'] = (covid_proc['Total Deaths']/covid_proc['Total Cases'])\n",
        "covid_proc[['Country', 'percentage of patients death']].head()"
      ]
    },
    {
      "cell_type": "code",
      "execution_count": null,
      "outputs": [],
      "metadata": {},
      "source": [
        "top_cases = covid_proc[['Country', 'Total Deaths']].sort_values(by='Total Deaths', ascending=False)[:10]\n",
        "top_cases"
      ]
    },
    {
      "cell_type": "code",
      "execution_count": null,
      "outputs": [],
      "metadata": {},
      "source": [
        "less_cases = covid_proc[['Country', 'Total Deaths']].sort_values(by='Total Deaths', ascending=False)[187:]\n",
        "less_cases"
      ]
    },
    {
      "cell_type": "code",
      "execution_count": null,
      "outputs": [],
      "metadata": {},
      "source": [
        "covid_proc['recovered by cases'] = covid_proc['Total Cases']-covid_proc['Total Recovered']\n",
        "best_recovery = covid_proc[['Country', 'recovered by cases']].sort_values(by='recovered by cases', ascending=False)\n",
        "best_recovery[:10]"
      ]
    },
    {
      "cell_type": "code",
      "execution_count": null,
      "outputs": [],
      "metadata": {},
      "source": [
        "percentage_of_death=covid_proc[['Country','percentage of patients death']].sort_values(by='percentage of patients death',ascending=False)\n",
        "percentage_of_death[:10]"
      ]
    },
    {
      "cell_type": "code",
      "execution_count": null,
      "outputs": [],
      "metadata": {},
      "source": [
        "csv_file_path = 'abfss://datatokioolympicsgps@tokioolympicsgps.dfs.core.windows.net/Gold/covid_worldwide_GZ.csv'\n",
        "\n",
        "covid_proc.to_csv(csv_file_path, index=False)\n",
        "\n",
        "print(f'Dataframe exportado a {csv_file_path}')"
      ]
    },
    {
      "cell_type": "code",
      "execution_count": null,
      "outputs": [],
      "metadata": {},
      "source": [
        "csv_file_path = 'abfss://datatokioolympicsgps@tokioolympicsgps.dfs.core.windows.net/Gold/top_cases_GZ.csv'\n",
        "\n",
        "top_cases.to_csv(csv_file_path, index=False)\n",
        "\n",
        "print(f'Dataframe exportado a {csv_file_path}')"
      ]
    },
    {
      "cell_type": "code",
      "execution_count": null,
      "outputs": [],
      "metadata": {},
      "source": [
        "csv_file_path = 'abfss://datatokioolympicsgps@tokioolympicsgps.dfs.core.windows.net/Gold/less_cases_GZ.csv'\n",
        "\n",
        "less_cases.to_csv(csv_file_path, index=False)\n",
        "\n",
        "print(f'Dataframe exportado a {csv_file_path}')"
      ]
    },
    {
      "cell_type": "code",
      "execution_count": null,
      "outputs": [],
      "metadata": {},
      "source": [
        "csv_file_path = 'abfss://datatokioolympicsgps@tokioolympicsgps.dfs.core.windows.net/Gold/percentage_of_death_GZ.csv'\n",
        "\n",
        "percentage_of_death.to_csv(csv_file_path, index=False)\n",
        "\n",
        "print(f'Dataframe exportado a {csv_file_path}')"
      ]
    },
    {
      "cell_type": "code",
      "execution_count": null,
      "outputs": [],
      "metadata": {},
      "source": [
        "csv_file_path = 'abfss://datatokioolympicsgps@tokioolympicsgps.dfs.core.windows.net/Gold/best_recovery_GZ.csv'\n",
        "\n",
        "best_recovery.to_csv(csv_file_path, index=False)\n",
        "\n",
        "print(f'Dataframe exportado a {csv_file_path}')"
      ]
    }
  ],
  "metadata": {
    "description": null,
    "save_output": true,
    "language_info": {
      "name": "python"
    }
  }
}