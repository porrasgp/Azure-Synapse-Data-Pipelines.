{
  "nbformat": 4,
  "nbformat_minor": 2,
  "cells": [
    {
      "cell_type": "code",
      "execution_count": 75,
      "outputs": [],
      "metadata": {},
      "source": [
        "import numpy as np\n",
        "import pandas as pd\n",
        "import matplotlib.pyplot as plt\n",
        "import plotly.express as px\n",
        "import seaborn as sns "
      ]
    },
    {
      "cell_type": "code",
      "execution_count": 76,
      "outputs": [],
      "metadata": {
        "collapsed": false
      },
      "source": [
        "covid_raw = pd.read_csv('abfss://datatokioolympicsgps@tokioolympicsgps.dfs.core.windows.net/Bronze/covid_worldwide_rd.csv', index_col=False) \n",
        "covid_raw.head()"
      ]
    },
    {
      "cell_type": "code",
      "execution_count": 77,
      "outputs": [],
      "metadata": {},
      "source": [
        "covid_raw.shape"
      ]
    },
    {
      "cell_type": "code",
      "execution_count": 78,
      "outputs": [],
      "metadata": {},
      "source": [
        "covid_raw.info()"
      ]
    },
    {
      "cell_type": "code",
      "execution_count": 79,
      "outputs": [],
      "metadata": {},
      "source": [
        "covid_raw.drop('Serial Number', axis=1,inplace=True)"
      ]
    },
    {
      "cell_type": "code",
      "execution_count": 80,
      "outputs": [],
      "metadata": {},
      "source": [
        "covid_raw.info()"
      ]
    },
    {
      "cell_type": "code",
      "execution_count": 81,
      "outputs": [],
      "metadata": {},
      "source": [
        "covid_raw.isnull().sum()/covid_raw.shape[0]*100"
      ]
    },
    {
      "cell_type": "code",
      "execution_count": 82,
      "outputs": [],
      "metadata": {},
      "source": [
        "covid_raw['Total Cases']=covid_raw['Total Cases'].str.replace(',','',regex=True).astype(\"float\")\n",
        "covid_raw['Total Deaths']=covid_raw['Total Deaths'].str.replace(',','',regex=True).astype(\"float\")\n",
        "covid_raw['Total Recovered']=covid_raw['Total Recovered'].str.replace(',','',regex=True).astype(\"float\")\n",
        "covid_raw['Active Cases']=covid_raw['Active Cases'].str.replace(',','',regex=True).astype(\"float\")\n",
        "covid_raw['Total Test']=covid_raw['Total Test'].str.replace(',','',regex=True).astype(\"float\")\n",
        "covid_raw['Population']=covid_raw['Population'].str.replace(',','',regex=True).astype(\"float\")"
      ]
    },
    {
      "cell_type": "code",
      "execution_count": 83,
      "outputs": [],
      "metadata": {},
      "source": [
        "covid_raw.info()"
      ]
    },
    {
      "cell_type": "code",
      "execution_count": 84,
      "outputs": [],
      "metadata": {},
      "source": [
        "covid_raw[covid_raw['Population'].isnull()]"
      ]
    },
    {
      "cell_type": "code",
      "execution_count": 85,
      "outputs": [],
      "metadata": {},
      "source": [
        "covid_raw.loc[90,'Population']=1439323776\n",
        "covid_raw.loc[226,'Population']=2666\n",
        "covid_raw.loc[229,'Population']=2047"
      ]
    },
    {
      "cell_type": "code",
      "execution_count": 86,
      "outputs": [],
      "metadata": {},
      "source": [
        "covid_raw.isnull().sum()/covid_raw.shape[0]*100"
      ]
    },
    {
      "cell_type": "code",
      "execution_count": 87,
      "outputs": [],
      "metadata": {},
      "source": [
        "covid_raw[covid_raw['Total Deaths'].isnull()]"
      ]
    },
    {
      "cell_type": "code",
      "execution_count": 88,
      "outputs": [],
      "metadata": {},
      "source": [
        "covid_raw['Total Deaths'].fillna(0,inplace=True)"
      ]
    },
    {
      "cell_type": "code",
      "execution_count": 89,
      "outputs": [],
      "metadata": {},
      "source": [
        "covid_raw[covid_raw['Total Recovered'].isnull()]"
      ]
    },
    {
      "cell_type": "code",
      "execution_count": 90,
      "outputs": [],
      "metadata": {},
      "source": [
        "covid_raw.dropna(inplace=True)"
      ]
    },
    {
      "cell_type": "code",
      "execution_count": 91,
      "outputs": [],
      "metadata": {},
      "source": [
        "covid_raw.info()"
      ]
    },
    {
      "cell_type": "code",
      "execution_count": 92,
      "outputs": [],
      "metadata": {},
      "source": [
        "covid_raw.Country.describe()\n",
        ""
      ]
    },
    {
      "cell_type": "code",
      "execution_count": 94,
      "outputs": [],
      "metadata": {},
      "source": [
        "csv_file_path = 'abfss://datatokioolympicsgps@tokioolympicsgps.dfs.core.windows.net/Silver/covid_worldwide_SZ.csv'\n",
        "\n",
        "covid_raw.to_csv(csv_file_path, index=False)\n",
        "\n",
        "print(f'Dataframe exportado a {csv_file_path}')"
      ]
    }
  ],
  "metadata": {
    "description": null,
    "save_output": true,
    "language_info": {
      "name": "python"
    }
  }
}